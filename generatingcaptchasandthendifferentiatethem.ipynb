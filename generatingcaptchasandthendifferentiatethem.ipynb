{
  "nbformat": 4,
  "nbformat_minor": 0,
  "metadata": {
    "colab": {
      "private_outputs": true,
      "provenance": []
    },
    "kernelspec": {
      "name": "python3",
      "display_name": "Python 3"
    },
    "language_info": {
      "name": "python"
    }
  },
  "cells": [
    {
      "cell_type": "code",
      "source": [
        "pip install Pillow\n"
      ],
      "metadata": {
        "id": "OfZds9RFOf1B"
      },
      "execution_count": null,
      "outputs": []
    },
    {
      "cell_type": "code",
      "source": [
        "from captcha.image import ImageCaptcha\n",
        "from PIL import Image\n",
        "import random\n",
        "\n",
        "# Create a new PIL image object\n",
        "def create_image(captcha_text):\n",
        "    image = ImageCaptcha(width=300, height=100)\n",
        "    data = image.generate(captcha_text)\n",
        "    captcha_image = Image.open(data)\n",
        "    return captcha_image\n",
        "\n",
        "# Generate and display CAPTCHA images\n",
        "for i in range(10):\n",
        "    # Generate a random 5-digit number as the CAPTCHA text\n",
        "    captcha_text = ''.join(random.choices('0123456789', k=5))\n",
        "\n",
        "    # Create the CAPTCHA image\n",
        "    captcha_image = create_image(captcha_text)\n",
        "\n",
        "    # Save the CAPTCHA image file\n",
        "    captcha_image.save(f\"captcha_{i+1}.png\")\n",
        "\n",
        "    # Display the CAPTCHA image\n",
        "    captcha_image.show()"
      ],
      "metadata": {
        "id": "12jAl2bPb2Ob"
      },
      "execution_count": null,
      "outputs": []
    },
    {
      "cell_type": "code",
      "source": [
        "pip install pyocr\n"
      ],
      "metadata": {
        "id": "-Uai65p9czy9"
      },
      "execution_count": null,
      "outputs": []
    },
    {
      "cell_type": "code",
      "source": [
        "from captcha.image import ImageCaptcha\n",
        "import random\n",
        "import pandas as pd\n",
        "\n",
        "# Generate and store CAPTCHA data\n",
        "captchas = []\n",
        "numbers = []\n",
        "\n",
        "for i in range(1000):\n",
        "    # Generate a random 5-digit number as the CAPTCHA text\n",
        "    captcha_text = ''.join(random.choices('0123456789', k=5))\n",
        "\n",
        "    # Generate the CAPTCHA image\n",
        "    image = ImageCaptcha(width=300, height=100)\n",
        "    captcha_image = image.generate(captcha_text)\n",
        "\n",
        "    # Store the CAPTCHA data and number\n",
        "    captchas.append(captcha_image)\n",
        "    numbers.append(captcha_text)\n",
        "\n",
        "# Create a DataFrame to store the CAPTCHA data\n",
        "data = pd.DataFrame({'Captcha': captchas, 'Number': numbers})\n",
        "\n",
        "# Save the CAPTCHA data to a CSV file\n",
        "data.to_csv('captchas_data.csv', index=False)"
      ],
      "metadata": {
        "id": "DvePwSmLc1qZ"
      },
      "execution_count": null,
      "outputs": []
    }
  ]
}